{
 "cells": [
  {
   "cell_type": "code",
   "execution_count": 2,
   "id": "7ba0d4c3-907e-4aa7-9050-9557d52d5145",
   "metadata": {},
   "outputs": [
    {
     "ename": "SyntaxError",
     "evalue": "invalid syntax (cfos_regressions.py, line 147)",
     "output_type": "error",
     "traceback": [
      "Traceback \u001b[1;36m(most recent call last)\u001b[0m:\n",
      "  File \u001b[0;32m\"C:\\Users\\shane\\.conda\\envs\\cfos_regressions\\lib\\site-packages\\IPython\\core\\interactiveshell.py\"\u001b[0m, line \u001b[0;32m3552\u001b[0m, in \u001b[0;35mrun_code\u001b[0m\n    exec(code_obj, self.user_global_ns, self.user_ns)\n",
      "\u001b[1;36m  File \u001b[1;32m\"C:\\Users\\shane\\AppData\\Local\\Temp\\ipykernel_24988\\1723739867.py\"\u001b[1;36m, line \u001b[1;32m1\u001b[1;36m, in \u001b[1;35m<module>\u001b[1;36m\u001b[0m\n\u001b[1;33m    import cfos_regressions as cr\u001b[0m\n",
      "\u001b[1;36m  File \u001b[1;32m\"C:\\Users\\shane\\Dropbox (ListonLab)\\shane\\python_projects\\cfos_regressions\\scripts\\cfos_regressions.py\"\u001b[1;36m, line \u001b[1;32m147\u001b[0m\n\u001b[1;33m    def get_life_canvas_data(region_list_path, anno25_path)\u001b[0m\n\u001b[1;37m                                                           ^\u001b[0m\n\u001b[1;31mSyntaxError\u001b[0m\u001b[1;31m:\u001b[0m invalid syntax\n"
     ]
    }
   ],
   "source": [
    "import cfos_regressions as cr"
   ]
  },
  {
   "cell_type": "code",
   "execution_count": null,
   "id": "5b190ff9-818d-4967-a725-31407b2f8667",
   "metadata": {},
   "outputs": [],
   "source": []
  }
 ],
 "metadata": {
  "kernelspec": {
   "display_name": "Python 3 (ipykernel)",
   "language": "python",
   "name": "python3"
  },
  "language_info": {
   "codemirror_mode": {
    "name": "ipython",
    "version": 3
   },
   "file_extension": ".py",
   "mimetype": "text/x-python",
   "name": "python",
   "nbconvert_exporter": "python",
   "pygments_lexer": "ipython3",
   "version": "3.7.13"
  }
 },
 "nbformat": 4,
 "nbformat_minor": 5
}
